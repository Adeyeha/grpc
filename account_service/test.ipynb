{
 "cells": [
  {
   "cell_type": "code",
   "execution_count": 6,
   "metadata": {},
   "outputs": [
    {
     "name": "stdout",
     "output_type": "stream",
     "text": [
      "----- Destroy All ------\n",
      "----- Create -----\n",
      "account_number: 1000000000\n",
      "account_type: \"Savings\"\n",
      "currency: \"EUR\"\n",
      "customer_id: \"3\"\n",
      "balance: 200\n",
      "----- List -----\n",
      "account_number: 1000000000\n",
      "account_type: \"Savings\"\n",
      "currency: \"EUR\"\n",
      "customer_id: \"3\"\n",
      "balance: 200\n",
      "----- Retrieve By Customer-----\n",
      "----- Retrieve -----\n",
      "account_number: 1000000000\n",
      "account_type: \"Savings\"\n",
      "currency: \"EUR\"\n",
      "customer_id: \"3\"\n",
      "balance: 200\n",
      "----- Update -----\n",
      "account_number: 1000000000\n",
      "account_type: \"Checking\"\n",
      "currency: \"EUR\"\n",
      "customer_id: \"3\"\n",
      "balance: 20\n",
      "----- Delete -----\n"
     ]
    }
   ],
   "source": [
    "import grpc\n",
    "from account_proto import account_pb2, account_pb2_grpc\n",
    "\n",
    "\n",
    "with grpc.insecure_channel('localhost:50052') as channel:\n",
    "    response = stub = account_pb2_grpc.AccountControllerStub(channel)\n",
    "    print('----- Destroy All ------')\n",
    "    stub.DestroyAll(account_pb2.Account())\n",
    "    print('----- Create -----')\n",
    "    response = stub.Create(account_pb2.Account(account_type='Savings',currency='EUR',customer_id='3',balance=200))\n",
    "    print(response, end='')\n",
    "    print('----- List -----')\n",
    "    for post in stub.List(account_pb2.AccountListRequest()):\n",
    "        print(post, end='')\n",
    "    print('----- Retrieve By Customer-----')\n",
    "    for post in stub.RetrieveByCustomer(account_pb2.AccountRetrieveByCustomerRequest(customer_id=response.customer_id)):\n",
    "        print(post, end='')\n",
    "    print('----- Retrieve -----')\n",
    "    response = stub.Retrieve(account_pb2.AccountRetrieveRequest(account_number=response.account_number))\n",
    "    print(response, end='')\n",
    "    print('----- Update -----')\n",
    "    response = stub.Update(account_pb2.Account(account_number=response.account_number, account_type='Checking',currency='EUR',customer_id=response.customer_id,balance=20))\n",
    "    print(response, end='')\n",
    "    print('----- Delete -----')\n",
    "    stub.Destroy(account_pb2.Account(account_number=response.account_number))"
   ]
  }
 ],
 "metadata": {
  "kernelspec": {
   "display_name": "env",
   "language": "python",
   "name": "python3"
  },
  "language_info": {
   "codemirror_mode": {
    "name": "ipython",
    "version": 3
   },
   "file_extension": ".py",
   "mimetype": "text/x-python",
   "name": "python",
   "nbconvert_exporter": "python",
   "pygments_lexer": "ipython3",
   "version": "3.12.3"
  }
 },
 "nbformat": 4,
 "nbformat_minor": 2
}
