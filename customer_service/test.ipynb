{
 "cells": [
  {
   "cell_type": "code",
   "execution_count": 3,
   "metadata": {},
   "outputs": [
    {
     "name": "stdout",
     "output_type": "stream",
     "text": [
      "----- Destroy All ------\n",
      "----- Create -----\n",
      "customer_id: 100000000\n",
      "first_name: \"Jizi\"\n",
      "last_name: \"Dizi\"\n",
      "email: \"jizi.dizi@example.com\"\n",
      "phone_number: \"8887903439828\"\n",
      "----- List -----\n",
      "customer_id: 100000000\n",
      "first_name: \"Jizi\"\n",
      "last_name: \"Dizi\"\n",
      "email: \"jizi.dizi@example.com\"\n",
      "phone_number: \"8887903439828\"\n",
      "----- Retrieve By Phone-----\n",
      "customer_id: 100000000\n",
      "first_name: \"Jizi\"\n",
      "last_name: \"Dizi\"\n",
      "email: \"jizi.dizi@example.com\"\n",
      "phone_number: \"8887903439828\"\n",
      "----- Retrieve -----\n",
      "customer_id: 100000000\n",
      "first_name: \"Jizi\"\n",
      "last_name: \"Dizi\"\n",
      "email: \"jizi.dizi@example.com\"\n",
      "phone_number: \"8887903439828\"\n",
      "----- Update -----\n",
      "customer_id: 100000000\n",
      "first_name: \"Jane\"\n",
      "last_name: \"Dizi\"\n",
      "email: \"jizi.dizi@example.com\"\n",
      "phone_number: \"8887903439828\"\n",
      "----- Delete -----\n"
     ]
    }
   ],
   "source": [
    "import grpc\n",
    "from customer_proto import customer_pb2_grpc,customer_pb2\n",
    "\n",
    "\n",
    "with grpc.insecure_channel('localhost:50051') as channel:\n",
    "    response = stub = customer_pb2_grpc.CustomerControllerStub(channel)\n",
    "    print('----- Destroy All ------')\n",
    "    stub.DestroyAll(customer_pb2.Customer())\n",
    "    print('----- Create -----')\n",
    "    response = stub.Create(customer_pb2.Customer(first_name='Jizi', last_name='Dizi',email='jizi.dizi@example.com',phone_number='8887903439828'))\n",
    "    print(response, end='')\n",
    "    print('----- List -----')\n",
    "    for post in stub.List(customer_pb2.CustomerListRequest()):\n",
    "        print(post, end='')\n",
    "    print('----- Retrieve By Phone-----')\n",
    "    response = stub.RetrievebyPhone(customer_pb2.CustomerRetrievebyPhoneRequest(phone_number=response.phone_number))\n",
    "    print(response, end='')\n",
    "    print('----- Retrieve -----')\n",
    "    response = stub.Retrieve(customer_pb2.CustomerRetrieveRequest(customer_id=response.customer_id))\n",
    "    print(response, end='')\n",
    "    print('----- Update -----')\n",
    "    response = stub.Update(customer_pb2.Customer(customer_id=response.customer_id, first_name='Jane', last_name='Dizi',email=response.email,phone_number=response.phone_number))\n",
    "    print(response, end='')\n",
    "    print('----- Delete -----')\n",
    "    stub.Destroy(customer_pb2.Customer(customer_id=response.customer_id))"
   ]
  }
 ],
 "metadata": {
  "kernelspec": {
   "display_name": "env",
   "language": "python",
   "name": "python3"
  },
  "language_info": {
   "codemirror_mode": {
    "name": "ipython",
    "version": 3
   },
   "file_extension": ".py",
   "mimetype": "text/x-python",
   "name": "python",
   "nbconvert_exporter": "python",
   "pygments_lexer": "ipython3",
   "version": "3.12.3"
  }
 },
 "nbformat": 4,
 "nbformat_minor": 2
}
